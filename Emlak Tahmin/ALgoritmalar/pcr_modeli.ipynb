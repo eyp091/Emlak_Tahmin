{
 "cells": [
  {
   "cell_type": "markdown",
   "id": "8588b2ad-14e3-4b2b-8726-c9a8898f1519",
   "metadata": {},
   "source": [
    "# PCR İle Modelleme"
   ]
  },
  {
   "cell_type": "code",
   "execution_count": 66,
   "id": "1646e2b2-d84f-4585-aed5-dd67a4ba22cd",
   "metadata": {
    "tags": []
   },
   "outputs": [],
   "source": [
    "import numpy as np\n",
    "import pandas as pd \n",
    "from sklearn.model_selection import train_test_split, GridSearchCV,cross_val_score\n",
    "from sklearn.metrics import mean_squared_error, r2_score\n",
    "import matplotlib.pyplot as plt\n",
    "from sklearn.preprocessing import scale \n",
    "from sklearn import model_selection\n",
    "from sklearn.tree import DecisionTreeRegressor, DecisionTreeClassifier\n",
    "from sklearn.neighbors import KNeighborsRegressor\n",
    "from sklearn.ensemble import BaggingRegressor\n",
    "from sklearn.linear_model import LinearRegression\n",
    "import joblib\n",
    "\n",
    "from warnings import filterwarnings\n",
    "filterwarnings('ignore')"
   ]
  },
  {
   "cell_type": "code",
   "execution_count": 36,
   "id": "2496b176-1ff3-45c5-9b6e-053c2cc48c03",
   "metadata": {
    "tags": []
   },
   "outputs": [],
   "source": [
    "fridge = pd.read_excel('emlak_gercek.xlsx')\n",
    "df = fridge.copy()\n",
    "df = df.dropna()\n",
    "y = df[\"Fiyat\"].astype('int32')\n",
    "X_ = df.drop(['Fiyat', \"Isıtma_Tipi\", \"Krediye_Uygunluk\", \"Eşya_Durumu\", \"Kira_Getirisi\"], axis=1).astype('int32')\n",
    "X = pd.DataFrame(X_)\n",
    "X_train, X_test, y_train, y_test = train_test_split(X, y, \n",
    "                                                    test_size=0.20, \n",
    "                                                   random_state=42)"
   ]
  },
  {
   "cell_type": "code",
   "execution_count": 37,
   "id": "69eb3f9b-579c-4f55-a303-9bc7ab9027a4",
   "metadata": {
    "tags": []
   },
   "outputs": [],
   "source": [
    "df[\"Fiyat\"] = df[\"Fiyat\"].astype(\"float64\")"
   ]
  },
  {
   "cell_type": "code",
   "execution_count": 38,
   "id": "194023b6-ff65-416c-b1d5-1ed08a0f207e",
   "metadata": {
    "tags": []
   },
   "outputs": [],
   "source": [
    "from sklearn.decomposition import PCA\n",
    "from sklearn.preprocessing import scale \n",
    "pca = PCA()"
   ]
  },
  {
   "cell_type": "code",
   "execution_count": 39,
   "id": "8f6d79a8-0a69-44c5-beae-d51c51ec541e",
   "metadata": {
    "tags": []
   },
   "outputs": [],
   "source": [
    "X_reduced_train = pca.fit_transform(scale(X_train))"
   ]
  },
  {
   "cell_type": "code",
   "execution_count": 40,
   "id": "260fc1ae-f4ff-4c86-a18c-9ca6db5feff4",
   "metadata": {
    "tags": []
   },
   "outputs": [
    {
     "data": {
      "text/plain": [
       "array([[ 1.46354695, -0.14836488, -1.45249299,  1.47356111, -0.25394413,\n",
       "        -0.26110028,  0.16182839, -0.05635979]])"
      ]
     },
     "execution_count": 40,
     "metadata": {},
     "output_type": "execute_result"
    }
   ],
   "source": [
    "X_reduced_train[0:1,:]"
   ]
  },
  {
   "cell_type": "code",
   "execution_count": 41,
   "id": "8a3e2b4e-adee-4333-b3f6-50410362570f",
   "metadata": {
    "tags": []
   },
   "outputs": [
    {
     "data": {
      "text/plain": [
       "array([39.65, 54.65, 67.69, 79.28, 90.01])"
      ]
     },
     "execution_count": 41,
     "metadata": {},
     "output_type": "execute_result"
    }
   ],
   "source": [
    "np.cumsum(np.round(pca.explained_variance_ratio_, decimals = 4)*100)[0:5]"
   ]
  },
  {
   "cell_type": "code",
   "execution_count": 42,
   "id": "3d0eb09f-19f3-4609-863d-095719a3a004",
   "metadata": {
    "tags": []
   },
   "outputs": [],
   "source": [
    "lm = LinearRegression()"
   ]
  },
  {
   "cell_type": "code",
   "execution_count": 43,
   "id": "515d9721-b49b-47d0-9df3-80c5f841dbfc",
   "metadata": {
    "tags": []
   },
   "outputs": [],
   "source": [
    "pcr_model = lm.fit(X_reduced_train, y_train)"
   ]
  },
  {
   "cell_type": "code",
   "execution_count": 44,
   "id": "d4898b03-e63a-4a11-873d-81c5f2cff94b",
   "metadata": {
    "tags": []
   },
   "outputs": [
    {
     "data": {
      "text/plain": [
       "7176374.634543179"
      ]
     },
     "execution_count": 44,
     "metadata": {},
     "output_type": "execute_result"
    }
   ],
   "source": [
    "pcr_model.intercept_"
   ]
  },
  {
   "cell_type": "code",
   "execution_count": 45,
   "id": "edff662c-9eec-444e-b5ff-0610e4f1cbab",
   "metadata": {
    "tags": []
   },
   "outputs": [
    {
     "data": {
      "text/plain": [
       "array([ 2507951.55613254,   572111.69454916, -1855202.4163301 ,\n",
       "       -1176856.55325372, -3551781.09505235,   672693.33009512,\n",
       "        9193483.15710699,  6932248.50538517])"
      ]
     },
     "execution_count": 45,
     "metadata": {},
     "output_type": "execute_result"
    }
   ],
   "source": [
    "pcr_model.coef_"
   ]
  },
  {
   "cell_type": "code",
   "execution_count": 46,
   "id": "06414f3f-a9aa-4e6b-8eae-86afbbf91395",
   "metadata": {
    "tags": []
   },
   "outputs": [],
   "source": [
    "y_pred = pcr_model.predict(X_reduced_train)"
   ]
  },
  {
   "cell_type": "code",
   "execution_count": 47,
   "id": "4ee290fe-3a97-49fd-9c9d-c12fb2ac6dd3",
   "metadata": {
    "tags": []
   },
   "outputs": [
    {
     "data": {
      "text/plain": [
       "4493589.468585711"
      ]
     },
     "execution_count": 47,
     "metadata": {},
     "output_type": "execute_result"
    }
   ],
   "source": [
    "np.sqrt(mean_squared_error(y_train, y_pred))"
   ]
  },
  {
   "cell_type": "code",
   "execution_count": 48,
   "id": "987699ca-b984-4251-9f33-6f842980a6a2",
   "metadata": {
    "tags": []
   },
   "outputs": [
    {
     "data": {
      "text/plain": [
       "0.7194904654760312"
      ]
     },
     "execution_count": 48,
     "metadata": {},
     "output_type": "execute_result"
    }
   ],
   "source": [
    "r2_score(y_train, y_pred)"
   ]
  },
  {
   "cell_type": "code",
   "execution_count": 49,
   "id": "e4677915-eeeb-4080-a157-b7d03fa26baf",
   "metadata": {
    "tags": []
   },
   "outputs": [],
   "source": [
    "pca2 = PCA()"
   ]
  },
  {
   "cell_type": "code",
   "execution_count": 50,
   "id": "657f8530-397a-4cfb-a38d-55c24c91f652",
   "metadata": {
    "tags": []
   },
   "outputs": [],
   "source": [
    "X_reduced_test = pca2.fit_transform(scale(X_test))"
   ]
  },
  {
   "cell_type": "code",
   "execution_count": 51,
   "id": "7fdf2852-007f-4518-b301-07905630815e",
   "metadata": {
    "tags": []
   },
   "outputs": [],
   "source": [
    "y_pred = pcr_model.predict(X_reduced_test)"
   ]
  },
  {
   "cell_type": "code",
   "execution_count": 52,
   "id": "16768715-3e26-4cfb-a859-783f03301f59",
   "metadata": {
    "tags": []
   },
   "outputs": [
    {
     "data": {
      "text/plain": [
       "9116376.997694047"
      ]
     },
     "execution_count": 52,
     "metadata": {},
     "output_type": "execute_result"
    }
   ],
   "source": [
    "np.sqrt(mean_squared_error(y_test, y_pred))"
   ]
  },
  {
   "cell_type": "code",
   "execution_count": 53,
   "id": "4a441036-e37d-4e4c-9509-2dc56120fe0d",
   "metadata": {
    "tags": []
   },
   "outputs": [
    {
     "name": "stdout",
     "output_type": "stream",
     "text": [
      "9116376.997694047\n"
     ]
    }
   ],
   "source": [
    "lm = LinearRegression()\n",
    "pcr_model = lm.fit(X_reduced_train[:,0:10], y_train)\n",
    "y_pred = pcr_model.predict(X_reduced_test[:,0:10])\n",
    "print(np.sqrt(mean_squared_error(y_test, y_pred)))"
   ]
  },
  {
   "cell_type": "code",
   "execution_count": 54,
   "id": "3333510c-6643-4040-969f-c0b4147f11e2",
   "metadata": {
    "tags": []
   },
   "outputs": [],
   "source": [
    "from sklearn import model_selection"
   ]
  },
  {
   "cell_type": "code",
   "execution_count": 55,
   "id": "578bf255-6720-4822-8343-283a0c311f35",
   "metadata": {
    "tags": []
   },
   "outputs": [],
   "source": [
    "cv_10 = model_selection.KFold(n_splits = 10,\n",
    "                             shuffle = True,\n",
    "                             random_state = 1)"
   ]
  },
  {
   "cell_type": "code",
   "execution_count": 56,
   "id": "f0deb314-d296-424a-84c2-639ae2d3290f",
   "metadata": {
    "tags": []
   },
   "outputs": [],
   "source": [
    "lm = LinearRegression()"
   ]
  },
  {
   "cell_type": "code",
   "execution_count": 57,
   "id": "25b36670-6816-4986-ad74-db01a82cfc77",
   "metadata": {
    "tags": []
   },
   "outputs": [],
   "source": [
    "RMSE = []"
   ]
  },
  {
   "cell_type": "code",
   "execution_count": 58,
   "id": "ce2ef0a2-2a58-4d91-9072-9484c106c484",
   "metadata": {
    "tags": []
   },
   "outputs": [],
   "source": [
    "for i in np.arange(1, X_reduced_train.shape[1] + 1):\n",
    "    \n",
    "    score = np.sqrt(-1*model_selection.cross_val_score(lm, \n",
    "                                                       X_reduced_train[:,:i], \n",
    "                                                       y_train.ravel(), \n",
    "                                                       cv=cv_10, \n",
    "                                                       scoring='neg_mean_squared_error').mean())\n",
    "    RMSE.append(score)"
   ]
  },
  {
   "cell_type": "code",
   "execution_count": 59,
   "id": "10130660-71db-4d4d-ab0d-2c9bab58d9ac",
   "metadata": {
    "tags": []
   },
   "outputs": [
    {
     "data": {
      "image/png": "[encoded data removed]",
      "text/plain": [
       "<Figure size 640x480 with 1 Axes>"
      ]
     },
     "metadata": {},
     "output_type": "display_data"
    }
   ],
   "source": [
    "plt.plot(RMSE, '-v')\n",
    "plt.xlabel('Bileşen Sayısı')\n",
    "plt.ylabel('RMSE')\n",
    "plt.title('Ev Fiyat Tahmin Modeli İçin PCR Model Tuning');"
   ]
  },
  {
   "cell_type": "code",
   "execution_count": 60,
   "id": "14174fbd-60e1-4f58-ad96-64d87d96df0f",
   "metadata": {
    "tags": []
   },
   "outputs": [],
   "source": [
    "pcr_model = lm.fit(X_reduced_train[:,0:6], y_train)"
   ]
  },
  {
   "cell_type": "code",
   "execution_count": 61,
   "id": "6773cdf7-a9b2-4353-95a9-5f250d69e436",
   "metadata": {
    "tags": []
   },
   "outputs": [],
   "source": [
    "y_pred = pcr_model.predict(X_reduced_train[:,0:6])"
   ]
  },
  {
   "cell_type": "code",
   "execution_count": 62,
   "id": "c5565106-8257-432f-a633-231c1be76e9e",
   "metadata": {
    "tags": []
   },
   "outputs": [
    {
     "name": "stdout",
     "output_type": "stream",
     "text": [
      "5972667.706387718\n"
     ]
    }
   ],
   "source": [
    "print(np.sqrt(mean_squared_error(y_train, y_pred)))"
   ]
  },
  {
   "cell_type": "code",
   "execution_count": 63,
   "id": "4b9b98a7-c732-48c7-b476-6771055e9533",
   "metadata": {
    "tags": []
   },
   "outputs": [],
   "source": [
    "y_pred = pcr_model.predict(X_reduced_test[:,0:6])"
   ]
  },
  {
   "cell_type": "code",
   "execution_count": 64,
   "id": "28f2f1b9-c713-4241-8afc-f40daa07c9db",
   "metadata": {
    "tags": []
   },
   "outputs": [
    {
     "name": "stdout",
     "output_type": "stream",
     "text": [
      "6018701.808945173\n"
     ]
    }
   ],
   "source": [
    "print(np.sqrt(mean_squared_error(y_test, y_pred)))"
   ]
  },
  {
   "cell_type": "code",
   "execution_count": 68,
   "id": "8e59ac90-f3f4-4e87-ae95-096018a7c91e",
   "metadata": {},
   "outputs": [
    {
     "data": {
      "text/plain": [
       "['pcr_model.sav']"
      ]
     },
     "execution_count": 68,
     "metadata": {},
     "output_type": "execute_result"
    }
   ],
   "source": [
    "joblib.dump(pcr_model, \"pcr_model.sav\")"
   ]
  },
  {
   "cell_type": "code",
   "execution_count": null,
   "id": "1e2c2899-bf49-4938-bbd5-07eaf50f5f82",
   "metadata": {},
   "outputs": [],
   "source": []
  }
 ],
 "metadata": {
  "kernelspec": {
   "display_name": "Python 3 (ipykernel)",
   "language": "python",
   "name": "python3"
  },
  "language_info": {
   "codemirror_mode": {
    "name": "ipython",
    "version": 3
   },
   "file_extension": ".py",
   "mimetype": "text/x-python",
   "name": "python",
   "nbconvert_exporter": "python",
   "pygments_lexer": "ipython3",
   "version": "3.11.5"
  }
 },
 "nbformat": 4,
 "nbformat_minor": 5
}
